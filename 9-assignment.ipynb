{
 "cells": [
  {
   "cell_type": "markdown",
   "id": "38e88816-da20-424c-aeb5-20be9624c0b9",
   "metadata": {},
   "source": [
    "## Q1. What is multiprocessing in python? Why is it useful?\n"
   ]
  },
  {
   "cell_type": "markdown",
   "id": "3be78163-c56c-4faf-9798-ad6c91f9efaf",
   "metadata": {},
   "source": [
    "### Multiprocessing refers to running multiple processes simultaneously, which can be incredibly useful for speeding up your code and handling large datasets and tasks. For example, running an operation in parallel can divide a job into several smaller parts that can be processed simultaneously."
   ]
  },
  {
   "cell_type": "markdown",
   "id": "cc50ea49-95fe-49f5-8aef-ff0e0bb2a1e1",
   "metadata": {},
   "source": [
    "## Q2. What are the differences between multiprocessing and multithreading?\n"
   ]
  },
  {
   "cell_type": "markdown",
   "id": "30a995e7-bcad-4e32-8f52-4c0549691316",
   "metadata": {},
   "source": [
    "### Multiprocessing uses two or more CPUs to increase computing power, whereas multithreading uses a single process with multiple code segments to increase computing power.\n",
    "### Multithreading focuses on generating computing threads from a single process, whereas multiprocessing increases computing power by adding CPUs."
   ]
  },
  {
   "cell_type": "markdown",
   "id": "16402a7c-64d5-48f9-98da-c5da051d5097",
   "metadata": {},
   "source": [
    "## Q3. Write a python code to create a process using the multiprocessing module.\n"
   ]
  },
  {
   "cell_type": "code",
   "execution_count": null,
   "id": "7956d213-bfac-4b0b-a923-7110fbc209b8",
   "metadata": {},
   "outputs": [],
   "source": [
    "# importing the multiprocessing module \n",
    "import multiprocessing \n",
    "\n",
    "def print_cube(num): \n",
    "\t\"\"\" \n",
    "\tfunction to print cube of given num \n",
    "\t\"\"\"\n",
    "\tprint(\"Cube: {}\".format(num * num * num)) \n",
    "\n",
    "def print_square(num): \n",
    "\t\"\"\" \n",
    "\tfunction to print square of given num \n",
    "\t\"\"\"\n",
    "\tprint(\"Square: {}\".format(num * num)) \n",
    "\n",
    "if __name__ == \"__main__\": \n",
    "\t# creating processes \n",
    "\tp1 = multiprocessing.Process(target=print_square, args=(10, )) \n",
    "\tp2 = multiprocessing.Process(target=print_cube, args=(10, )) \n",
    "\n",
    "\t# starting process 1 \n",
    "\tp1.start() \n",
    "\t# starting process 2 \n",
    "\tp2.start() \n",
    "\n",
    "\t# wait until process 1 is finished \n",
    "\tp1.join() \n",
    "\t# wait until process 2 is finished \n",
    "\tp2.join() \n",
    "\n",
    "\t# both processes finished \n",
    "\tprint(\"Done!\") \n"
   ]
  },
  {
   "cell_type": "markdown",
   "id": "6acbef5f-9221-4d62-b2bb-61cb66b38c47",
   "metadata": {},
   "source": [
    "## Q4. What is a multiprocessing pool in python? Why is it used?\n"
   ]
  },
  {
   "cell_type": "markdown",
   "id": "a458aff7-5d3c-480c-b9fc-7be91d486591",
   "metadata": {},
   "source": [
    "### Python multiprocessing Pool can be used for parallel execution of a function across multiple input values, distributing the input data across processes (data parallelism).03-Aug-2022"
   ]
  },
  {
   "cell_type": "markdown",
   "id": "9717bb03-cdbb-47f7-81ff-9790ff8946e9",
   "metadata": {},
   "source": [
    "## Q5. How can we create a pool of worker processes in python using the multiprocessing module?\n"
   ]
  },
  {
   "cell_type": "markdown",
   "id": "4b939028-9775-4875-b519-90fe75109260",
   "metadata": {},
   "source": [
    "### Let us try to understand above code step by step:\n",
    "### We create a Pool object using: p = multiprocessing.Pool() ... Now, in order to perform some task, we have to map it to some function. ...Once all the worker processes finish their task, a list is returned with the final result."
   ]
  },
  {
   "cell_type": "markdown",
   "id": "49ab2197-f922-4e39-9b23-6bc1029e7a58",
   "metadata": {},
   "source": [
    "## Q6. Write a python program to create 4 processes, each process should print a different number using themultiprocessing module in python."
   ]
  },
  {
   "cell_type": "code",
   "execution_count": null,
   "id": "7086c9e9-6869-49a3-9c37-641f4fcccdf6",
   "metadata": {},
   "outputs": [],
   "source": [
    "# importing the multiprocessing module \n",
    "import multiprocessing \n",
    "\n",
    "def print_cube(num): \n",
    "\t\"\"\" \n",
    "\tfunction to print cube of given num \n",
    "\t\"\"\"\n",
    "\tprint(\"Cube: {}\".format(num * num * num)) \n",
    "\n",
    "def print_square(num): \n",
    "\t\"\"\" \n",
    "\tfunction to print square of given num \n",
    "\t\"\"\"\n",
    "\tprint(\"Square: {}\".format(num * num)) \n",
    "\n",
    "if __name__ == \"__main__\": \n",
    "\t# creating processes \n",
    "\tp1 = multiprocessing.Process(target=print_square, args=(10, )) \n",
    "\tp2 = multiprocessing.Process(target=print_cube, args=(10, )) \n",
    "\n",
    "\t# starting process 1 \n",
    "\tp1.start() \n",
    "\t# starting process 2 \n",
    "\tp2.start() \n",
    "\n",
    "\t# wait until process 1 is finished \n",
    "\tp1.join() \n",
    "\t# wait until process 2 is finished \n",
    "\tp2.join() \n",
    "\n",
    "\t# both processes finished \n",
    "\tprint(\"Done!\") \n"
   ]
  },
  {
   "cell_type": "code",
   "execution_count": null,
   "id": "4db0124d-8a4f-46a6-8458-0f4b7a263671",
   "metadata": {},
   "outputs": [],
   "source": []
  },
  {
   "cell_type": "code",
   "execution_count": null,
   "id": "b1be78f2-5f56-45fe-9950-a5cdf10be8fb",
   "metadata": {},
   "outputs": [],
   "source": []
  }
 ],
 "metadata": {
  "kernelspec": {
   "display_name": "Python 3 (ipykernel)",
   "language": "python",
   "name": "python3"
  },
  "language_info": {
   "codemirror_mode": {
    "name": "ipython",
    "version": 3
   },
   "file_extension": ".py",
   "mimetype": "text/x-python",
   "name": "python",
   "nbconvert_exporter": "python",
   "pygments_lexer": "ipython3",
   "version": "3.10.8"
  }
 },
 "nbformat": 4,
 "nbformat_minor": 5
}
